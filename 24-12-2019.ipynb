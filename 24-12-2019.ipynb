{
 "cells": [
  {
   "cell_type": "markdown",
   "metadata": {},
   "source": [
    "# welcome to the world of python"
   ]
  },
  {
   "cell_type": "markdown",
   "metadata": {},
   "source": [
    "## python is very popular language"
   ]
  },
  {
   "cell_type": "markdown",
   "metadata": {},
   "source": [
    "# -----\n",
    "## -----\n",
    "### ------"
   ]
  },
  {
   "cell_type": "markdown",
   "metadata": {},
   "source": [
    "## to insert an image\n",
    "![]()\n",
    "![title](data:image/jpeg;base64,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)"
   ]
  },
  {
   "cell_type": "markdown",
   "metadata": {},
   "source": [
    "## use *text* for getting italic\n",
    "## use **text** for getting bold type\n",
    "## use ***text*** for combination of two"
   ]
  },
  {
   "cell_type": "markdown",
   "metadata": {},
   "source": [
    "<font color=\"red\">Gitam</font>"
   ]
  },
  {
   "cell_type": "markdown",
   "metadata": {},
   "source": [
    "<a href=\"http://www.google.com\">clickme</a>"
   ]
  },
  {
   "cell_type": "markdown",
   "metadata": {},
   "source": [
    "<h1>Gitam college locations</h1>\n",
    "<ul>\n",
    "<li>hyderabad</li>\n",
    "<li>vizag</li>\n",
    "<li>banglore</li>\n",
    "</ul>"
   ]
  },
  {
   "cell_type": "markdown",
   "metadata": {},
   "source": [
    "<h1>Gitam college locations</h1>\n",
    "<ol>\n",
    "<li>hyderabad</li>\n",
    "<li>vizag</li>\n",
    "<li>banglore</li>\n",
    "</ol>"
   ]
  },
  {
   "cell_type": "code",
   "execution_count": 3,
   "metadata": {},
   "outputs": [
    {
     "name": "stdout",
     "output_type": "stream",
     "text": [
      "hello world\n"
     ]
    }
   ],
   "source": [
    "print(\"hello world\")"
   ]
  },
  {
   "cell_type": "code",
   "execution_count": 4,
   "metadata": {},
   "outputs": [
    {
     "name": "stdout",
     "output_type": "stream",
     "text": [
      "hello\n",
      "everyone\n"
     ]
    }
   ],
   "source": [
    "print(\"hello\")\n",
    "print(\"everyone\")"
   ]
  },
  {
   "cell_type": "code",
   "execution_count": 5,
   "metadata": {},
   "outputs": [
    {
     "name": "stdout",
     "output_type": "stream",
     "text": [
      "hello everyone\n"
     ]
    }
   ],
   "source": [
    "print(\"hello\",end=\" \")\n",
    "print(\"everyone\")"
   ]
  },
  {
   "cell_type": "code",
   "execution_count": 6,
   "metadata": {},
   "outputs": [
    {
     "name": "stdout",
     "output_type": "stream",
     "text": [
      "\n",
      "Here is a list of the Python keywords.  Enter any keyword to get more help.\n",
      "\n",
      "False               class               from                or\n",
      "None                continue            global              pass\n",
      "True                def                 if                  raise\n",
      "and                 del                 import              return\n",
      "as                  elif                in                  try\n",
      "assert              else                is                  while\n",
      "async               except              lambda              with\n",
      "await               finally             nonlocal            yield\n",
      "break               for                 not                 \n",
      "\n"
     ]
    }
   ],
   "source": [
    "help(\"keywords\")"
   ]
  },
  {
   "cell_type": "code",
   "execution_count": 7,
   "metadata": {},
   "outputs": [
    {
     "name": "stdout",
     "output_type": "stream",
     "text": [
      "10\n",
      "34.5\n",
      "gitam\n",
      "hyd\n"
     ]
    }
   ],
   "source": [
    "a=10\n",
    "b=34.5\n",
    "c=\"gitam\"\n",
    "d='hyd'\n",
    "print(a)\n",
    "print(b)\n",
    "print(c)\n",
    "print(d)"
   ]
  },
  {
   "cell_type": "code",
   "execution_count": 1,
   "metadata": {},
   "outputs": [
    {
     "name": "stdout",
     "output_type": "stream",
     "text": [
      "10 34.5 gitam (2+4j)\n",
      "<class 'int'> <class 'float'> <class 'str'> <class 'complex'>\n"
     ]
    }
   ],
   "source": [
    "a=10\n",
    "b=34.5\n",
    "c=\"gitam\"\n",
    "d=2+4j\n",
    "print(a,b,c,d)\n",
    "print(type(a),type(b),type(c),type(d))"
   ]
  },
  {
   "cell_type": "code",
   "execution_count": 2,
   "metadata": {},
   "outputs": [
    {
     "name": "stdout",
     "output_type": "stream",
     "text": [
      "1677183280\n",
      "1677184720\n"
     ]
    }
   ],
   "source": [
    "a=10\n",
    "print(id(a))\n",
    "a=100\n",
    "print(id(a))"
   ]
  },
  {
   "cell_type": "code",
   "execution_count": 3,
   "metadata": {},
   "outputs": [
    {
     "data": {
      "text/plain": [
       "100"
      ]
     },
     "execution_count": 3,
     "metadata": {},
     "output_type": "execute_result"
    }
   ],
   "source": [
    "a"
   ]
  },
  {
   "cell_type": "code",
   "execution_count": 4,
   "metadata": {},
   "outputs": [
    {
     "name": "stdout",
     "output_type": "stream",
     "text": [
      "t\n"
     ]
    }
   ],
   "source": [
    "a='t'\n",
    "print(a)"
   ]
  },
  {
   "cell_type": "code",
   "execution_count": 5,
   "metadata": {},
   "outputs": [
    {
     "name": "stdout",
     "output_type": "stream",
     "text": [
      "3963104\n"
     ]
    }
   ],
   "source": [
    "a='t'\n",
    "print(id(a))"
   ]
  },
  {
   "cell_type": "code",
   "execution_count": 6,
   "metadata": {},
   "outputs": [
    {
     "name": "stdout",
     "output_type": "stream",
     "text": [
      "(2+5j)\n",
      "2.0\n",
      "5.0\n",
      "(2-5j)\n",
      "(3+4j)\n"
     ]
    }
   ],
   "source": [
    "a=2+5j\n",
    "print(a)\n",
    "print(a.real)\n",
    "print(a.imag)\n",
    "print(a.conjugate())\n",
    "c=complex(3,4)\n",
    "print(c)"
   ]
  },
  {
   "cell_type": "code",
   "execution_count": 7,
   "metadata": {},
   "outputs": [
    {
     "name": "stdout",
     "output_type": "stream",
     "text": [
      "(7+12j)\n",
      "(-3-2j)\n",
      "(-25+39j)\n"
     ]
    }
   ],
   "source": [
    "c=2+5j\n",
    "d=5+7j\n",
    "print(c+d)\n",
    "print(c-d)\n",
    "print(c*d)"
   ]
  },
  {
   "cell_type": "code",
   "execution_count": 8,
   "metadata": {},
   "outputs": [
    {
     "name": "stdout",
     "output_type": "stream",
     "text": [
      "Gitam\n",
      "Gitam\n",
      "<class 'str'> <class 'str'>\n",
      "5\n"
     ]
    }
   ],
   "source": [
    "str=\"Gitam\"\n",
    "str1='Gitam'\n",
    "print(str)\n",
    "print(str1)\n",
    "print(type(str),type(str1))\n",
    "print(len(str))"
   ]
  },
  {
   "cell_type": "code",
   "execution_count": 9,
   "metadata": {},
   "outputs": [
    {
     "name": "stdout",
     "output_type": "stream",
     "text": [
      "Enter the number40\n",
      "<class 'str'>\n",
      "<class 'int'>\n",
      "The number is 40\n"
     ]
    }
   ],
   "source": [
    "a=input(\"Enter the number\")\n",
    "print(type(a))\n",
    "b=int(a)\n",
    "print(type(b))\n",
    "print(\"The number is\",b)"
   ]
  },
  {
   "cell_type": "code",
   "execution_count": 11,
   "metadata": {},
   "outputs": [
    {
     "name": "stdout",
     "output_type": "stream",
     "text": [
      "<class 'str'>\n",
      "4\n",
      "<class 'int'>\n"
     ]
    }
   ],
   "source": [
    "b=\"1947\"\n",
    "print(type(b))\n",
    "print(len(b))\n",
    "c=int(b)\n",
    "print(type(c))\n",
    "#print(len(c))"
   ]
  },
  {
   "cell_type": "code",
   "execution_count": 12,
   "metadata": {},
   "outputs": [
    {
     "name": "stdout",
     "output_type": "stream",
     "text": [
      "enter the first number40\n",
      "enter the second number99\n",
      "the sum is 139\n"
     ]
    }
   ],
   "source": [
    "a=int(input(\"enter the first number\"))\n",
    "b=int(input(\"enter the second number\"))\n",
    "c=a+b\n",
    "print(\"the sum is\",c)"
   ]
  },
  {
   "cell_type": "code",
   "execution_count": 13,
   "metadata": {},
   "outputs": [
    {
     "name": "stdout",
     "output_type": "stream",
     "text": [
      "18\n",
      "6\n",
      "72\n",
      "2.0\n",
      "2\n",
      "0\n",
      "2985984\n"
     ]
    }
   ],
   "source": [
    "a=12\n",
    "b=6\n",
    "print(a+b)\n",
    "print(a-b)\n",
    "print(a*b)\n",
    "print(a/b)\n",
    "print(a//b)\n",
    "print(a%b)\n",
    "print(a**b)"
   ]
  },
  {
   "cell_type": "code",
   "execution_count": 14,
   "metadata": {},
   "outputs": [
    {
     "name": "stdout",
     "output_type": "stream",
     "text": [
      "True\n",
      "False\n",
      "True\n",
      "0\n",
      "1\n"
     ]
    }
   ],
   "source": [
    "x=10\n",
    "y=14\n",
    "print(x<34)\n",
    "print(x==y)\n",
    "print(x!=y)\n",
    "print(int(x>y))\n",
    "print(int(x<y))"
   ]
  },
  {
   "cell_type": "code",
   "execution_count": 16,
   "metadata": {},
   "outputs": [
    {
     "name": "stdout",
     "output_type": "stream",
     "text": [
      "True\n",
      "False\n",
      "False\n"
     ]
    }
   ],
   "source": [
    "x=20\n",
    "print(x>=20 and x<=30)\n",
    "print(x>=30 and a<=20)\n",
    "print(not(x))"
   ]
  },
  {
   "cell_type": "code",
   "execution_count": 20,
   "metadata": {},
   "outputs": [
    {
     "name": "stdout",
     "output_type": "stream",
     "text": [
      "True\n",
      "False\n"
     ]
    }
   ],
   "source": [
    "str1=\"gitam\"\n",
    "print('i'in str1)\n",
    "print('i' not in str1)"
   ]
  },
  {
   "cell_type": "code",
   "execution_count": 21,
   "metadata": {},
   "outputs": [
    {
     "name": "stdout",
     "output_type": "stream",
     "text": [
      "False\n",
      "True\n"
     ]
    }
   ],
   "source": [
    "a=85\n",
    "b=89\n",
    "print(a is b)\n",
    "print(a is not b)"
   ]
  },
  {
   "cell_type": "code",
   "execution_count": 22,
   "metadata": {},
   "outputs": [
    {
     "name": "stdout",
     "output_type": "stream",
     "text": [
      "the value of a is 100\n",
      "[1, 2, 3, 4, 5, 6]\n",
      "gitamgitamgitam\n",
      "it\n",
      "[1, 3, 5, 7, 9]\n"
     ]
    }
   ],
   "source": [
    "a=100\n",
    "print(\"the value of a is\",a)\n",
    "c=[1,2,3]\n",
    "d=[4,5,6]\n",
    "print(c+d)\n",
    "d=\"gitam\"\n",
    "print(d*3)\n",
    "print(d[1:3])\n",
    "print(list(range(1,10,2)))"
   ]
  },
  {
   "cell_type": "code",
   "execution_count": 27,
   "metadata": {},
   "outputs": [
    {
     "name": "stdout",
     "output_type": "stream",
     "text": [
      "it is -ve no\n"
     ]
    }
   ],
   "source": [
    "a=-10\n",
    "if(a>0):\n",
    "    print(\"it is +ve no\")\n",
    "if(a<0):\n",
    "    print(\"it is -ve no\")\n",
    "if(a==0):\n",
    "    print(\"it is zero\")"
   ]
  },
  {
   "cell_type": "code",
   "execution_count": 28,
   "metadata": {},
   "outputs": [
    {
     "name": "stdout",
     "output_type": "stream",
     "text": [
      "enter the number5\n",
      "5 is odd number\n"
     ]
    }
   ],
   "source": [
    "n=int(input(\"enter the number\"))\n",
    "if(n%2==0):\n",
    "    print(n,\"is even number\")\n",
    "else:\n",
    "    print(n,\"is odd number\")"
   ]
  },
  {
   "cell_type": "code",
   "execution_count": 32,
   "metadata": {},
   "outputs": [
    {
     "name": "stdout",
     "output_type": "stream",
     "text": [
      "enter the year3030\n",
      "3030 is not leap year\n"
     ]
    }
   ],
   "source": [
    "yr=int(input(\"enter the year\"))\n",
    "if((yr%100!=0 and yr%4==0) or yr%400==0):\n",
    "    print(yr,\"is leap year\")\n",
    "else:\n",
    "    print(yr,\"is not leap year\")"
   ]
  },
  {
   "cell_type": "code",
   "execution_count": 33,
   "metadata": {},
   "outputs": [
    {
     "name": "stdout",
     "output_type": "stream",
     "text": [
      "300 is big\n"
     ]
    }
   ],
   "source": [
    "a,b,c=10,20,300\n",
    "if(a>b and a>c):\n",
    "    print(a,\"is big\")\n",
    "elif(b>c):\n",
    "    print(b,\"is big\")\n",
    "else:\n",
    "    print(c,\"is big\")"
   ]
  },
  {
   "cell_type": "code",
   "execution_count": 35,
   "metadata": {},
   "outputs": [
    {
     "name": "stdout",
     "output_type": "stream",
     "text": [
      "before swapping 10 20\n",
      "after swapping 20 10\n"
     ]
    }
   ],
   "source": [
    "a=10\n",
    "b=20\n",
    "print(\"before swapping\",a,b)\n",
    "a,b=b,a\n",
    "print(\"after swapping\",a,b)"
   ]
  },
  {
   "cell_type": "code",
   "execution_count": null,
   "metadata": {},
   "outputs": [],
   "source": [
    "a=100\n",
    "b=25\n",
    "ch=int(input(\"enter the choice\"))\n",
    "if(ch==1):\n",
    "    print(\"the addition is\",a+b)\n",
    "elif(ch==2):\n",
    "    print(\"the subtraction is\",a-b)\n",
    "elif(ch==3):\n",
    "    print(\"the multiplication is\",a*b)\n",
    "elif(ch==4):\n",
    "    print(\"the divison is\",a/b)\n",
    "else:\n",
    "    print(\" choose the choices from[1-4] only\")"
   ]
  },
  {
   "cell_type": "code",
   "execution_count": null,
   "metadata": {},
   "outputs": [],
   "source": []
  },
  {
   "cell_type": "code",
   "execution_count": null,
   "metadata": {},
   "outputs": [],
   "source": []
  },
  {
   "cell_type": "code",
   "execution_count": null,
   "metadata": {},
   "outputs": [],
   "source": []
  }
 ],
 "metadata": {
  "kernelspec": {
   "display_name": "Python 3",
   "language": "python",
   "name": "python3"
  },
  "language_info": {
   "codemirror_mode": {
    "name": "ipython",
    "version": 3
   },
   "file_extension": ".py",
   "mimetype": "text/x-python",
   "name": "python",
   "nbconvert_exporter": "python",
   "pygments_lexer": "ipython3",
   "version": "3.7.3"
  }
 },
 "nbformat": 4,
 "nbformat_minor": 2
}
